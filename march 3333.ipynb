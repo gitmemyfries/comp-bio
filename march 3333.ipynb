{
 "cells": [
  {
   "cell_type": "code",
   "execution_count": 1,
   "metadata": {},
   "outputs": [],
   "source": [
    "\n",
    "\n",
    "%matplotlib notebook\n",
    "\n",
    "import numpy as np\n",
    "import matplotlib.pyplot as plt\n",
    "import time\n",
    "\n"
   ]
  },
  {
   "cell_type": "code",
   "execution_count": null,
   "metadata": {},
   "outputs": [],
   "source": []
  },
  {
   "cell_type": "code",
   "execution_count": null,
   "metadata": {},
   "outputs": [],
   "source": []
  },
  {
   "cell_type": "code",
   "execution_count": 2,
   "metadata": {},
   "outputs": [],
   "source": [
    "# Define constants, but we do it as a class (to later make passing it around easier)\n",
    "\n",
    "class Const:\n",
    "    def __init__(self):\n",
    "        self.n_animals_max = 100\n",
    "        self.n_animals_start = 50  # Original n_animals\n",
    "        self.n_steps = 100\n",
    "        self.vmin = 0.01\n",
    "        self.vmax = 0.05\n",
    "        \n",
    "        self.hp_baby = 10\n",
    "        self.hp_reproduction = 30\n",
    "        self.hp_food = 5\n",
    "        self.hp_birthcost = 10\n",
    "        self.hp_leak = 1\n",
    "\n",
    "        self.food_rate = 1\n",
    "        self.eating_distance = 0.01\n",
    "        self.n_food_max = 1000\n",
    "        self.n_food_start = 20\n"
   ]
  },
  {
   "cell_type": "code",
   "execution_count": null,
   "metadata": {},
   "outputs": [],
   "source": []
  },
  {
   "cell_type": "code",
   "execution_count": null,
   "metadata": {},
   "outputs": [],
   "source": []
  },
  {
   "cell_type": "code",
   "execution_count": null,
   "metadata": {},
   "outputs": [],
   "source": []
  },
  {
   "cell_type": "code",
   "execution_count": 3,
   "metadata": {},
   "outputs": [
    {
     "ename": "SyntaxError",
     "evalue": "invalid syntax (<ipython-input-3-15a7c8b09591>, line 44)",
     "output_type": "error",
     "traceback": [
      "\u001b[0;36m  File \u001b[0;32m\"<ipython-input-3-15a7c8b09591>\"\u001b[0;36m, line \u001b[0;32m44\u001b[0m\n\u001b[0;31m    if show_dotses: # Actual animation\u001b[0m\n\u001b[0m                  ^\u001b[0m\n\u001b[0;31mSyntaxError\u001b[0m\u001b[0;31m:\u001b[0m invalid syntax\n"
     ]
    }
   ],
   "source": [
    "# Build the model\n",
    "def model(c, show_dotses=False, n_trials=1):\n",
    "    history = np.zeros((c.n_steps, n_trials))\n",
    "\n",
    "    for i_trial in range(n_trials):\n",
    "        # Allocate hp for all animals, but only first few are alive\n",
    "        hp = np.zeros(c.n_animals_max)\n",
    "        hp[:c.n_animals_start] = np.random.uniform(\n",
    "            low=c.hp_baby, high=c.hp_reproduction, size=c.n_animals_start)\n",
    "        \n",
    "        x = np.random.uniform(size=c.n_animals_max)\n",
    "        y = np.random.uniform(size=c.n_animals_max)\n",
    "        vx = np.random.uniform(size=c.n_animals_max, low=c.vmin, high=c.vmax)*(\n",
    "            2*np.random.randint(size=c.n_animals_max,low=0,high=2) - 1)\n",
    "        vy = np.random.uniform(size=c.n_animals_max, low=c.vmin, high=c.vmax)*(\n",
    "            2*np.random.randint(size=c.n_animals_max,low=0,high=2) - 1)\n",
    "        \n",
    "        \n",
    "        foodx = np.ones(c.n_food_max)*-1\n",
    "        foodx[:c.n_food_start] = np.random.uniform(size=c.n_food_start)\n",
    "        foody = np.random.uniform(size=c.n_food_max) \n",
    "        n_animals = np.zeros(c.n_steps)\n",
    "\n",
    "        if show_dotses: # Init plots\n",
    "            fig = plt.figure(figsize=(3,3))\n",
    "            ax = plt.subplot(111) # No subplots actually, just creating axes\n",
    "            plt.xlim((0,1));\n",
    "            plt.ylim((0,1));\n",
    "            fig.show()\n",
    "            fig.canvas.draw()\n",
    "\n",
    "        for t in range(c.n_steps):\n",
    "            x += vx\n",
    "            y += vy\n",
    "\n",
    "            # Reflect from the walls\n",
    "            vx = np.where(np.logical_or(x>1,x<0), -vx , vx)\n",
    "            vy = np.where(np.logical_or(y>1,y<0), -vy , vy)\n",
    "            \n",
    "            hp -= c.hp_leak\n",
    "            \n",
    "            n_animals[t] = np.sum(hp>0\n",
    "            \n",
    "            if show_dotses: # Actual animation\n",
    "                ax.clear()\n",
    "                plt.plot(x[hp>0], y[hp>0], 'k.',markersize=5);\n",
    "                plt.plot(foodx,foody,'g.',markersize=1)\n",
    "                plt.xlim((0,1));\n",
    "                plt.ylim((0,1));\n",
    "                fig.canvas.draw() # Redraws the canvas (key secret command to animate things)\n",
    "        # --- Time loop is over\n",
    "\n",
    "        history[:,i_trial] = n_animals\n",
    "    return np.mean(history, axis=1)"
   ]
  },
  {
   "cell_type": "code",
   "execution_count": null,
   "metadata": {},
   "outputs": [],
   "source": []
  },
  {
   "cell_type": "code",
   "execution_count": null,
   "metadata": {},
   "outputs": [],
   "source": []
  },
  {
   "cell_type": "code",
   "execution_count": null,
   "metadata": {},
   "outputs": [],
   "source": []
  },
  {
   "cell_type": "code",
   "execution_count": null,
   "metadata": {},
   "outputs": [],
   "source": []
  },
  {
   "cell_type": "code",
   "execution_count": null,
   "metadata": {},
   "outputs": [],
   "source": []
  },
  {
   "cell_type": "code",
   "execution_count": null,
   "metadata": {},
   "outputs": [],
   "source": []
  },
  {
   "cell_type": "code",
   "execution_count": null,
   "metadata": {},
   "outputs": [],
   "source": []
  },
  {
   "cell_type": "code",
   "execution_count": null,
   "metadata": {},
   "outputs": [],
   "source": [
    "c = Const()\n",
    "curve = model(c, show_dotses=True);\n",
    "plt.figure(figsize=(3,3))\n",
    "plt.plot(curve)"
   ]
  },
  {
   "cell_type": "code",
   "execution_count": null,
   "metadata": {},
   "outputs": [],
   "source": []
  },
  {
   "cell_type": "code",
   "execution_count": null,
   "metadata": {},
   "outputs": [],
   "source": []
  },
  {
   "cell_type": "code",
   "execution_count": null,
   "metadata": {},
   "outputs": [],
   "source": []
  },
  {
   "cell_type": "code",
   "execution_count": null,
   "metadata": {},
   "outputs": [],
   "source": []
  },
  {
   "cell_type": "code",
   "execution_count": null,
   "metadata": {},
   "outputs": [],
   "source": []
  },
  {
   "cell_type": "code",
   "execution_count": null,
   "metadata": {},
   "outputs": [],
   "source": [
    "\n",
    "    "
   ]
  },
  {
   "cell_type": "code",
   "execution_count": null,
   "metadata": {},
   "outputs": [],
   "source": []
  },
  {
   "cell_type": "code",
   "execution_count": null,
   "metadata": {},
   "outputs": [],
   "source": []
  },
  {
   "cell_type": "code",
   "execution_count": null,
   "metadata": {},
   "outputs": [],
   "source": []
  },
  {
   "cell_type": "code",
   "execution_count": null,
   "metadata": {},
   "outputs": [],
   "source": []
  },
  {
   "cell_type": "code",
   "execution_count": null,
   "metadata": {},
   "outputs": [],
   "source": []
  },
  {
   "cell_type": "code",
   "execution_count": null,
   "metadata": {},
   "outputs": [],
   "source": []
  },
  {
   "cell_type": "code",
   "execution_count": null,
   "metadata": {},
   "outputs": [],
   "source": []
  },
  {
   "cell_type": "code",
   "execution_count": null,
   "metadata": {},
   "outputs": [],
   "source": []
  },
  {
   "cell_type": "code",
   "execution_count": null,
   "metadata": {},
   "outputs": [],
   "source": []
  },
  {
   "cell_type": "code",
   "execution_count": null,
   "metadata": {},
   "outputs": [],
   "source": []
  },
  {
   "cell_type": "code",
   "execution_count": null,
   "metadata": {},
   "outputs": [],
   "source": []
  },
  {
   "cell_type": "code",
   "execution_count": null,
   "metadata": {},
   "outputs": [],
   "source": []
  },
  {
   "cell_type": "code",
   "execution_count": null,
   "metadata": {},
   "outputs": [],
   "source": []
  },
  {
   "cell_type": "code",
   "execution_count": null,
   "metadata": {},
   "outputs": [],
   "source": []
  },
  {
   "cell_type": "code",
   "execution_count": null,
   "metadata": {},
   "outputs": [],
   "source": []
  },
  {
   "cell_type": "code",
   "execution_count": null,
   "metadata": {},
   "outputs": [],
   "source": []
  },
  {
   "cell_type": "code",
   "execution_count": null,
   "metadata": {},
   "outputs": [],
   "source": []
  },
  {
   "cell_type": "code",
   "execution_count": null,
   "metadata": {},
   "outputs": [],
   "source": []
  },
  {
   "cell_type": "code",
   "execution_count": null,
   "metadata": {},
   "outputs": [],
   "source": []
  },
  {
   "cell_type": "code",
   "execution_count": null,
   "metadata": {},
   "outputs": [],
   "source": []
  },
  {
   "cell_type": "code",
   "execution_count": null,
   "metadata": {},
   "outputs": [],
   "source": []
  },
  {
   "cell_type": "code",
   "execution_count": null,
   "metadata": {},
   "outputs": [],
   "source": []
  },
  {
   "cell_type": "code",
   "execution_count": null,
   "metadata": {},
   "outputs": [],
   "source": []
  },
  {
   "cell_type": "code",
   "execution_count": null,
   "metadata": {},
   "outputs": [],
   "source": []
  },
  {
   "cell_type": "code",
   "execution_count": null,
   "metadata": {},
   "outputs": [],
   "source": []
  },
  {
   "cell_type": "code",
   "execution_count": null,
   "metadata": {},
   "outputs": [],
   "source": []
  },
  {
   "cell_type": "code",
   "execution_count": null,
   "metadata": {},
   "outputs": [],
   "source": []
  },
  {
   "cell_type": "code",
   "execution_count": null,
   "metadata": {},
   "outputs": [],
   "source": []
  },
  {
   "cell_type": "code",
   "execution_count": null,
   "metadata": {},
   "outputs": [],
   "source": []
  }
 ],
 "metadata": {
  "kernelspec": {
   "display_name": "Python 3",
   "language": "python",
   "name": "python3"
  },
  "language_info": {
   "codemirror_mode": {
    "name": "ipython",
    "version": 3
   },
   "file_extension": ".py",
   "mimetype": "text/x-python",
   "name": "python",
   "nbconvert_exporter": "python",
   "pygments_lexer": "ipython3",
   "version": "3.7.4"
  }
 },
 "nbformat": 4,
 "nbformat_minor": 2
}
